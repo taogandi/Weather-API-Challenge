{
 "cells": [
  {
   "cell_type": "raw",
   "metadata": {},
   "source": [
    "Analysis 1: Temperatures get colder the farthest you go from the equator, and the hottest as you get close to it (plot 1)\n",
    "\n",
    "Analysis 2: Temperatures are mostly colder in the nothern hemisphere and the southern one (plot 1)\n",
    "\n",
    "Analysis 3: cloudiness is consistent on either side of the equator, and it seems almost symetrical to Lat 0 (plot 3)"
   ]
  },
  {
   "cell_type": "code",
   "execution_count": null,
   "metadata": {},
   "outputs": [],
   "source": [
    "# import dependencies\n",
    "import random \n",
    "import pandas as pd \n",
    "import time \n",
    "from datetime import datetime\n",
    "import requests\n",
    "import json\n",
    "import seaborn as sns \n",
    "import matplotlib.pyplot as plt # for creating/plotting graphs\n",
    "import numpy as np\n",
    "import openweathermapy as owm\n",
    "from api_keys import api_key"
   ]
  },
  {
   "cell_type": "code",
   "execution_count": 2,
   "metadata": {},
   "outputs": [
    {
     "data": {
      "text/plain": [
       "10"
      ]
     },
     "execution_count": 2,
     "metadata": {},
     "output_type": "execute_result"
    }
   ],
   "source": [
    "# Incorporated citipy to determine city based on latitude and longitude\n",
    "from citipy import citipy \n",
    "cities = []\n",
    "\n",
    "while len(cities)<10:\n",
    "    lats = (random.choice(range(-90,90))) \n",
    "    lngs = (random.choice(range(-180,180))) \n",
    "    city = citipy.nearest_city(lats,lngs).city_name \n",
    "    if city not in cities:\n",
    "        cities.append(city)\n",
    "\n",
    "len(cities)"
   ]
  },
  {
   "cell_type": "code",
   "execution_count": 3,
   "metadata": {},
   "outputs": [
    {
     "data": {
      "text/html": [
       "<div>\n",
       "<style scoped>\n",
       "    .dataframe tbody tr th:only-of-type {\n",
       "        vertical-align: middle;\n",
       "    }\n",
       "\n",
       "    .dataframe tbody tr th {\n",
       "        vertical-align: top;\n",
       "    }\n",
       "\n",
       "    .dataframe thead th {\n",
       "        text-align: right;\n",
       "    }\n",
       "</style>\n",
       "<table border=\"1\" class=\"dataframe\">\n",
       "  <thead>\n",
       "    <tr style=\"text-align: right;\">\n",
       "      <th></th>\n",
       "      <th>City</th>\n",
       "      <th>Cloudiness</th>\n",
       "      <th>Country</th>\n",
       "      <th>Date</th>\n",
       "      <th>Max Temp</th>\n",
       "      <th>Wind Speed</th>\n",
       "      <th>Lat</th>\n",
       "      <th>Lng</th>\n",
       "      <th>Humidity</th>\n",
       "    </tr>\n",
       "  </thead>\n",
       "  <tbody>\n",
       "  </tbody>\n",
       "</table>\n",
       "</div>"
      ],
      "text/plain": [
       "Empty DataFrame\n",
       "Columns: [City, Cloudiness, Country, Date, Max Temp, Wind Speed, Lat, Lng, Humidity]\n",
       "Index: []"
      ]
     },
     "execution_count": 3,
     "metadata": {},
     "output_type": "execute_result"
    }
   ],
   "source": [
    "# setting up url dictionaries\n",
    "settings = {\"units\": \"imperial\", \"appid\": api_key}\n",
    "\n",
    "# Setting API calls\n",
    "cities_df =pd.DataFrame(columns = [\"City\",\"Cloudiness\", \"Country\",\n",
    "                                    \"Date\", \"Max Temp\", \"Wind Speed\", \n",
    "                                    \"Lat\",\"Lng\", \"Humidity\"])\n",
    "\n",
    "cities_df.head()"
   ]
  },
  {
   "cell_type": "code",
   "execution_count": 4,
   "metadata": {
    "scrolled": false
   },
   "outputs": [
    {
     "name": "stdout",
     "output_type": "stream",
     "text": [
      "Beginning Data Retrieval\n",
      "--------------------------\n",
      "Processing Record 1 of Set 1 | pisco\n"
     ]
    },
    {
     "name": "stderr",
     "output_type": "stream",
     "text": [
      "/Users/taouficgandi/anaconda3/lib/python3.7/site-packages/ipykernel_launcher.py:18: FutureWarning: set_value is deprecated and will be removed in a future release. Please use .at[] or .iat[] accessors instead\n",
      "/Users/taouficgandi/anaconda3/lib/python3.7/site-packages/ipykernel_launcher.py:19: FutureWarning: set_value is deprecated and will be removed in a future release. Please use .at[] or .iat[] accessors instead\n",
      "/Users/taouficgandi/anaconda3/lib/python3.7/site-packages/ipykernel_launcher.py:20: FutureWarning: set_value is deprecated and will be removed in a future release. Please use .at[] or .iat[] accessors instead\n",
      "/Users/taouficgandi/anaconda3/lib/python3.7/site-packages/ipykernel_launcher.py:21: FutureWarning: set_value is deprecated and will be removed in a future release. Please use .at[] or .iat[] accessors instead\n",
      "/Users/taouficgandi/anaconda3/lib/python3.7/site-packages/ipykernel_launcher.py:22: FutureWarning: set_value is deprecated and will be removed in a future release. Please use .at[] or .iat[] accessors instead\n",
      "/Users/taouficgandi/anaconda3/lib/python3.7/site-packages/ipykernel_launcher.py:23: FutureWarning: set_value is deprecated and will be removed in a future release. Please use .at[] or .iat[] accessors instead\n",
      "/Users/taouficgandi/anaconda3/lib/python3.7/site-packages/ipykernel_launcher.py:24: FutureWarning: set_value is deprecated and will be removed in a future release. Please use .at[] or .iat[] accessors instead\n",
      "/Users/taouficgandi/anaconda3/lib/python3.7/site-packages/ipykernel_launcher.py:25: FutureWarning: set_value is deprecated and will be removed in a future release. Please use .at[] or .iat[] accessors instead\n",
      "/Users/taouficgandi/anaconda3/lib/python3.7/site-packages/ipykernel_launcher.py:26: FutureWarning: set_value is deprecated and will be removed in a future release. Please use .at[] or .iat[] accessors instead\n"
     ]
    },
    {
     "name": "stdout",
     "output_type": "stream",
     "text": [
      "Processing Record 2 of Set 1 | lagoa\n",
      "Processing Record 3 of Set 1 | hilo\n",
      "Processing Record 4 of Set 1 | victoria\n",
      "Processing Record 5 of Set 1 | torbay\n",
      "Processing Record 6 of Set 1 | ostersund\n",
      "Processing Record 7 of Set 1 | ribeira grande\n",
      "Processing Record 8 of Set 1 | lolua\n",
      "City not found. Skipping...\n",
      "Processing Record 9 of Set 1 | conguaco\n",
      "Processing Record 10 of Set 1 | dikson\n",
      "--------------------------\n",
      "Data Retrieval Complete \n",
      "--------------------------\n"
     ]
    }
   ],
   "source": [
    "#Calling API\n",
    "count = 1 \n",
    "sets = 1 \n",
    "index = 0 \n",
    "err = 0\n",
    "\n",
    "\n",
    "base_url = 'http://api.openweathermap.org/data/2.5/weather?q='\n",
    "print(f'Beginning Data Retrieval')\n",
    "print(\"--------------------------\")\n",
    "\n",
    "for city in cities:\n",
    "    try:\n",
    "        city1 = city.replace(\" \", \"%20\") # remove space in city name so the URL retrieved is not broken.\n",
    "        print(f'Processing Record {count} of Set {sets} | {city}' )\n",
    "\n",
    "        response = requests.get(base_url)\n",
    "        result = owm.get_current(city, **settings)\n",
    "        cities_df.set_value(index, \"City\", result[\"name\"])\n",
    "        cities_df.set_value(index, \"Cloudiness\", result(\"clouds.all\"))\n",
    "        cities_df.set_value(index, \"Country\", result(\"sys.country\"))\n",
    "        cities_df.set_value(index, \"Date\", result(\"dt\"))\n",
    "        cities_df.set_value(index, \"Max Temp\", result(\"main.temp_max\"))\n",
    "        cities_df.set_value(index, \"Wind Speed\", result(\"wind.speed\"))\n",
    "        cities_df.set_value(index, \"Lat\", result(\"coord.lat\"))\n",
    "        cities_df.set_value(index, \"Lng\", result(\"coord.lon\"))\n",
    "        cities_df.set_value(index, \"Humidity\", result(\"main.humidity\"))\n",
    "\n",
    "        \n",
    "        index = index +1 \n",
    "    except :\n",
    "        print('City not found. Skipping...')\n",
    "        err= err+1\n",
    "    \n",
    "    \n",
    "    count = count+1\n",
    "    if count == 51: # loop to limit 50 API calls per minute. The OpenWeatherMap API limit is 60 calls/min\n",
    "        count = 1 \n",
    "        sets = sets+1\n",
    "\n",
    "        \n",
    "\n",
    "print(\"--------------------------\")\n",
    "print(f'Data Retrieval Complete ')\n",
    "print(\"--------------------------\")\n"
   ]
  },
  {
   "cell_type": "code",
   "execution_count": 5,
   "metadata": {},
   "outputs": [
    {
     "data": {
      "text/plain": [
       "City          9\n",
       "Cloudiness    9\n",
       "Country       9\n",
       "Date          9\n",
       "Max Temp      9\n",
       "Wind Speed    9\n",
       "Lat           9\n",
       "Lng           9\n",
       "Humidity      9\n",
       "dtype: int64"
      ]
     },
     "execution_count": 5,
     "metadata": {},
     "output_type": "execute_result"
    }
   ],
   "source": [
    "# Display the count of cities with weather data\n",
    "cities_df.count()"
   ]
  },
  {
   "cell_type": "code",
   "execution_count": 6,
   "metadata": {},
   "outputs": [
    {
     "data": {
      "text/html": [
       "<div>\n",
       "<style scoped>\n",
       "    .dataframe tbody tr th:only-of-type {\n",
       "        vertical-align: middle;\n",
       "    }\n",
       "\n",
       "    .dataframe tbody tr th {\n",
       "        vertical-align: top;\n",
       "    }\n",
       "\n",
       "    .dataframe thead th {\n",
       "        text-align: right;\n",
       "    }\n",
       "</style>\n",
       "<table border=\"1\" class=\"dataframe\">\n",
       "  <thead>\n",
       "    <tr style=\"text-align: right;\">\n",
       "      <th></th>\n",
       "      <th>City</th>\n",
       "      <th>Cloudiness</th>\n",
       "      <th>Country</th>\n",
       "      <th>Date</th>\n",
       "      <th>Max Temp</th>\n",
       "      <th>Wind Speed</th>\n",
       "      <th>Lat</th>\n",
       "      <th>Lng</th>\n",
       "      <th>Humidity</th>\n",
       "    </tr>\n",
       "  </thead>\n",
       "  <tbody>\n",
       "    <tr>\n",
       "      <th>0</th>\n",
       "      <td>Pisco</td>\n",
       "      <td>0</td>\n",
       "      <td>PE</td>\n",
       "      <td>1554782400</td>\n",
       "      <td>71.6</td>\n",
       "      <td>5.82</td>\n",
       "      <td>-13.71</td>\n",
       "      <td>-76.2</td>\n",
       "      <td>83</td>\n",
       "    </tr>\n",
       "    <tr>\n",
       "      <th>1</th>\n",
       "      <td>Lagoa</td>\n",
       "      <td>40</td>\n",
       "      <td>PT</td>\n",
       "      <td>1554784338</td>\n",
       "      <td>57.2</td>\n",
       "      <td>12.75</td>\n",
       "      <td>37.14</td>\n",
       "      <td>-8.45</td>\n",
       "      <td>76</td>\n",
       "    </tr>\n",
       "    <tr>\n",
       "      <th>2</th>\n",
       "      <td>Hilo</td>\n",
       "      <td>90</td>\n",
       "      <td>US</td>\n",
       "      <td>1554784461</td>\n",
       "      <td>77</td>\n",
       "      <td>6.93</td>\n",
       "      <td>19.71</td>\n",
       "      <td>-155.08</td>\n",
       "      <td>69</td>\n",
       "    </tr>\n",
       "    <tr>\n",
       "      <th>3</th>\n",
       "      <td>Victoria</td>\n",
       "      <td>75</td>\n",
       "      <td>BN</td>\n",
       "      <td>1554782400</td>\n",
       "      <td>91</td>\n",
       "      <td>4.7</td>\n",
       "      <td>5.28</td>\n",
       "      <td>115.24</td>\n",
       "      <td>70</td>\n",
       "    </tr>\n",
       "    <tr>\n",
       "      <th>4</th>\n",
       "      <td>Torbay</td>\n",
       "      <td>20</td>\n",
       "      <td>CA</td>\n",
       "      <td>1554784412</td>\n",
       "      <td>25</td>\n",
       "      <td>18.34</td>\n",
       "      <td>47.66</td>\n",
       "      <td>-52.73</td>\n",
       "      <td>67</td>\n",
       "    </tr>\n",
       "    <tr>\n",
       "      <th>5</th>\n",
       "      <td>Ostersund</td>\n",
       "      <td>0</td>\n",
       "      <td>SE</td>\n",
       "      <td>1554784318</td>\n",
       "      <td>21.2</td>\n",
       "      <td>9.17</td>\n",
       "      <td>63.18</td>\n",
       "      <td>14.64</td>\n",
       "      <td>57</td>\n",
       "    </tr>\n",
       "    <tr>\n",
       "      <th>6</th>\n",
       "      <td>Ribeira Grande</td>\n",
       "      <td>92</td>\n",
       "      <td>PT</td>\n",
       "      <td>1554784381</td>\n",
       "      <td>60.98</td>\n",
       "      <td>24.34</td>\n",
       "      <td>38.52</td>\n",
       "      <td>-28.7</td>\n",
       "      <td>94</td>\n",
       "    </tr>\n",
       "    <tr>\n",
       "      <th>7</th>\n",
       "      <td>Conguaco</td>\n",
       "      <td>0</td>\n",
       "      <td>GT</td>\n",
       "      <td>1554784519</td>\n",
       "      <td>73.04</td>\n",
       "      <td>2.53</td>\n",
       "      <td>14.05</td>\n",
       "      <td>-90.03</td>\n",
       "      <td>90</td>\n",
       "    </tr>\n",
       "    <tr>\n",
       "      <th>8</th>\n",
       "      <td>Dikson</td>\n",
       "      <td>68</td>\n",
       "      <td>RU</td>\n",
       "      <td>1554784520</td>\n",
       "      <td>17.87</td>\n",
       "      <td>10.13</td>\n",
       "      <td>73.51</td>\n",
       "      <td>80.55</td>\n",
       "      <td>100</td>\n",
       "    </tr>\n",
       "  </tbody>\n",
       "</table>\n",
       "</div>"
      ],
      "text/plain": [
       "             City Cloudiness Country        Date Max Temp Wind Speed    Lat  \\\n",
       "0           Pisco          0      PE  1554782400     71.6       5.82 -13.71   \n",
       "1           Lagoa         40      PT  1554784338     57.2      12.75  37.14   \n",
       "2            Hilo         90      US  1554784461       77       6.93  19.71   \n",
       "3        Victoria         75      BN  1554782400       91        4.7   5.28   \n",
       "4          Torbay         20      CA  1554784412       25      18.34  47.66   \n",
       "5       Ostersund          0      SE  1554784318     21.2       9.17  63.18   \n",
       "6  Ribeira Grande         92      PT  1554784381    60.98      24.34  38.52   \n",
       "7        Conguaco          0      GT  1554784519    73.04       2.53  14.05   \n",
       "8          Dikson         68      RU  1554784520    17.87      10.13  73.51   \n",
       "\n",
       "      Lng Humidity  \n",
       "0   -76.2       83  \n",
       "1   -8.45       76  \n",
       "2 -155.08       69  \n",
       "3  115.24       70  \n",
       "4  -52.73       67  \n",
       "5   14.64       57  \n",
       "6   -28.7       94  \n",
       "7  -90.03       90  \n",
       "8   80.55      100  "
      ]
     },
     "execution_count": 6,
     "metadata": {},
     "output_type": "execute_result"
    }
   ],
   "source": [
    "# Export to a csv\n",
    "cities_df.to_csv(\"WeatherPy.csv\", encoding='utf-8', index=False)\n",
    "\n",
    "# Display the DataFrame\n",
    "cities_df.head(10)"
   ]
  },
  {
   "cell_type": "code",
   "execution_count": 7,
   "metadata": {},
   "outputs": [
    {
     "data": {
      "image/png": "[encoded data removed]",
      "text/plain": [
       "<Figure size 360x360 with 1 Axes>"
      ]
     },
     "metadata": {},
     "output_type": "display_data"
    }
   ],
   "source": [
    "#Latitude vs. Temperature Plot\n",
    "sns.set_context(\"notebook\", font_scale=1.1)\n",
    "sns.set_style(\"ticks\")\n",
    "\n",
    "\n",
    "sns.lmplot('Lat',\n",
    "          'Max Temp',\n",
    "          data=cities_df,\n",
    "          fit_reg=False,\n",
    "          scatter_kws={\"marker\": \"o\",\n",
    "                        \"s\": 20})\n",
    "plt.grid(True)\n",
    "plt.xlabel(\"Latitude\")\n",
    "plt.ylabel(\"Max Temperature (Celsius)\")\n",
    "plt.title(f\"City Latitude vs Max Temperature({datetime.now().date()})\")\n",
    "plt.show()"
   ]
  },
  {
   "cell_type": "code",
   "execution_count": 8,
   "metadata": {},
   "outputs": [
    {
     "data": {
      "image/png": "[encoded data removed]",
      "text/plain": [
       "<Figure size 360x360 with 1 Axes>"
      ]
     },
     "metadata": {},
     "output_type": "display_data"
    }
   ],
   "source": [
    "# Latitude vs. Humidity Plot\n",
    "sns.set_context(\"notebook\", font_scale=1.1)\n",
    "sns.set_style(\"ticks\")\n",
    "\n",
    "\n",
    "sns.lmplot('Lat',\n",
    "          'Humidity',\n",
    "          data=cities_df,\n",
    "          fit_reg=False,\n",
    "          scatter_kws={\"marker\": \"o\",\n",
    "                        \"s\": 20})\n",
    "plt.grid(True)\n",
    "plt.xlabel(\"Latitude\")\n",
    "plt.ylabel('Humidity (%)')\n",
    "plt.title(f'City Latitude vs Humidity ({datetime.now().date()})')\n",
    "plt.show()"
   ]
  },
  {
   "cell_type": "code",
   "execution_count": 9,
   "metadata": {},
   "outputs": [
    {
     "data": {
      "image/png": "[encoded data removed]",
      "text/plain": [
       "<Figure size 360x360 with 1 Axes>"
      ]
     },
     "metadata": {},
     "output_type": "display_data"
    }
   ],
   "source": [
    "# Latitude vs. Cloudiness Plot\n",
    "\n",
    "sns.set_context(\"notebook\", font_scale=1.1)\n",
    "sns.set_style(\"ticks\")\n",
    "\n",
    "\n",
    "sns.lmplot('Lat',\n",
    "          'Cloudiness',\n",
    "          data=cities_df,\n",
    "          fit_reg=False,\n",
    "          scatter_kws={\"marker\": \"o\",\n",
    "                        \"s\": 20})\n",
    "plt.grid(True)\n",
    "plt.xlabel(\"Latitude\")\n",
    "plt.ylabel('Cloudiness (%)')\n",
    "plt.title(f'City Latitude vs Cloudiness ({datetime.now().date()})')\n",
    "plt.show()\n"
   ]
  },
  {
   "cell_type": "code",
   "execution_count": 10,
   "metadata": {},
   "outputs": [
    {
     "data": {
      "image/png": "[encoded data removed]",
      "text/plain": [
       "<Figure size 360x360 with 1 Axes>"
      ]
     },
     "metadata": {},
     "output_type": "display_data"
    }
   ],
   "source": [
    "#Latitude vs. Wind Speed Plot\n",
    "\n",
    "\n",
    "sns.set_context(\"notebook\", font_scale=1.1)\n",
    "sns.set_style(\"ticks\")\n",
    "\n",
    "\n",
    "sns.lmplot('Lat',\n",
    "          'Wind Speed',\n",
    "          data=cities_df,\n",
    "          fit_reg=False,\n",
    "          scatter_kws={\"marker\": \"o\",\n",
    "                        \"s\": 20})\n",
    "plt.grid(True)\n",
    "plt.xlabel(\"Latitude\")\n",
    "plt.ylabel('Wind Speed (mph)')\n",
    "plt.title(f'City Latitude vs Wind Speed ({datetime.now().date()})')\n",
    "plt.show()\n"
   ]
  },
  {
   "cell_type": "code",
   "execution_count": null,
   "metadata": {},
   "outputs": [],
   "source": []
  }
 ],
 "metadata": {
  "celltoolbar": "Raw Cell Format",
  "kernelspec": {
   "display_name": "Python 3",
   "language": "python",
   "name": "python3"
  },
  "language_info": {
   "codemirror_mode": {
    "name": "ipython",
    "version": 3
   },
   "file_extension": ".py",
   "mimetype": "text/x-python",
   "name": "python",
   "nbconvert_exporter": "python",
   "pygments_lexer": "ipython3",
   "version": "3.7.1"
  }
 },
 "nbformat": 4,
 "nbformat_minor": 2
}
